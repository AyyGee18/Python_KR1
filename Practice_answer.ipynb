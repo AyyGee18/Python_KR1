{
  "cells": [
    {
      "cell_type": "code",
      "execution_count": 1,
      "metadata": {
        "id": "fzYOiWxafzax"
      },
      "outputs": [],
      "source": [
        "import math"
      ]
    },
    {
      "cell_type": "code",
      "execution_count": 7,
      "metadata": {
        "id": "Ax0n6sYAb4_g"
      },
      "outputs": [],
      "source": [
        "class Shape(object):\n",
        "\n",
        "  def __init__(self):\n",
        "    self._pos = None\n",
        "    self._scale = None\n",
        "    self._color = None\n",
        "\n",
        "  def set_pos(self, pos):\n",
        "    self._pos = pos\n",
        "\n",
        "  def get_pos(self):\n",
        "    return self._pos\n",
        "\n",
        "  def set_scale(self, scale):\n",
        "    self._scale = scale\n",
        "\n",
        "  def get_scale(self):\n",
        "    return self._scale\n",
        "\n",
        "  def set_color(self, color):\n",
        "    self._color = color\n",
        "\n",
        "  def get_color(self):\n",
        "    return self._color\n",
        "\n",
        "  def info(self):\n",
        "    print(\"Position:\", self._pos, \"\\nScale:\", self._scale, \"\\nColor:\", self._color)\n",
        "\n",
        "  def area(self):\n",
        "    print(\"Area of the shape\")"
      ]
    },
    {
      "cell_type": "code",
      "execution_count": 3,
      "metadata": {
        "id": "p43T40K2dX7M"
      },
      "outputs": [],
      "source": [
        "class Rectangle(Shape):\n",
        "\n",
        "  def __init__(self):\n",
        "    super().__init__()\n",
        "\n",
        "    self.__side1 = None\n",
        "    self.__side2 = None\n",
        "\n",
        "  def set_sides(self, side1, side2):\n",
        "    self.__side1 = side1\n",
        "    self.__side2 = side2\n",
        "\n",
        "  def get_sides(self):\n",
        "    return self.__side1, self.__side2\n",
        "\n",
        "  def info(self):\n",
        "    super().info()\n",
        "    print(\"Side1:\", self.__side1, \"\\nSide2:\", self.__side2)\n",
        "\n",
        "  def area(self):\n",
        "    super().area()\n",
        "    return self.__side1 * self.__side2"
      ]
    },
    {
      "cell_type": "code",
      "execution_count": 4,
      "metadata": {
        "id": "1iz8KLYaeQ3z"
      },
      "outputs": [],
      "source": [
        "class Trapezoid(Shape):\n",
        "\n",
        "  def __init__(self):\n",
        "    super().__init__()\n",
        "\n",
        "    self.__side1 = None\n",
        "    self.__side2 = None\n",
        "    self.__h = None\n",
        "\n",
        "  def set_sides(self, side1, side2):\n",
        "    self.__side1 = side1\n",
        "    self.__side2 = side2\n",
        "\n",
        "  def get_sides(self):\n",
        "    return self.__side1, self.__side2\n",
        "\n",
        "  def set_h(self, h):\n",
        "    self.__h = h\n",
        "\n",
        "  def get_h(self):\n",
        "    return self.__h\n",
        "\n",
        "  def info(self):\n",
        "    super().info()\n",
        "    print(\"Side1:\", self.__side1, \"\\nSide2:\", self.__side2, \"\\nHeight:\", self.__h)\n",
        "\n",
        "  def area(self):\n",
        "    super().area()\n",
        "    return 0.5 * (self.__side1 + self.__side2) * self.__h"
      ]
    },
    {
      "cell_type": "code",
      "execution_count": 5,
      "metadata": {
        "id": "rbrCWMQte496"
      },
      "outputs": [],
      "source": [
        "class Circle(Shape):\n",
        "\n",
        "  def __init__(self):\n",
        "    super().__init__()\n",
        "\n",
        "    self.__radius = None\n",
        "\n",
        "  def set_radius(self, radius):\n",
        "    self.__radius = radius\n",
        "\n",
        "  def get_sides(self):\n",
        "    return self.__radius\n",
        "\n",
        "  def info(self):\n",
        "    super().info()\n",
        "    print(\"Radius:\", self.__radius)\n",
        "\n",
        "  def area(self):\n",
        "    super().area()\n",
        "    return math.pi * (self.__radius ** 2)"
      ]
    },
    {
      "cell_type": "code",
      "execution_count": 8,
      "metadata": {
        "colab": {
          "base_uri": "https://localhost:8080/"
        },
        "id": "9VBi-Pd_gIOx",
        "outputId": "b19dde4d-74a2-46ee-c4b7-53da1353f0dc"
      },
      "outputs": [
        {
          "name": "stdout",
          "output_type": "stream",
          "text": [
            "Position: {'x': 5, 'y': 4} \n",
            "Scale: 2 \n",
            "Color: blue\n",
            "Side1: 5 \n",
            "Side2: 4\n",
            "Area of tha shape\n"
          ]
        },
        {
          "data": {
            "text/plain": [
              "20"
            ]
          },
          "execution_count": 8,
          "metadata": {},
          "output_type": "execute_result"
        }
      ],
      "source": [
        "rec = Rectangle()\n",
        "rec.set_pos({\"x\":5, \"y\":4})\n",
        "rec.set_scale(2)\n",
        "rec.set_color(\"blue\")\n",
        "rec.set_sides(5, 4)\n",
        "rec.info()\n",
        "rec.area()"
      ]
    },
    {
      "cell_type": "code",
      "execution_count": 9,
      "metadata": {
        "colab": {
          "base_uri": "https://localhost:8080/"
        },
        "id": "8ez-zktOgPG6",
        "outputId": "2c29cef4-7992-44e2-c9cf-3af78ca3b25e"
      },
      "outputs": [
        {
          "name": "stdout",
          "output_type": "stream",
          "text": [
            "Position: {'x': 1, 'y': 1} \n",
            "Scale: 1 \n",
            "Color: orange\n",
            "Side1: 3 \n",
            "Side2: 8 \n",
            "Height: 4\n",
            "Area of tha shape\n"
          ]
        },
        {
          "data": {
            "text/plain": [
              "5.5"
            ]
          },
          "execution_count": 9,
          "metadata": {},
          "output_type": "execute_result"
        }
      ],
      "source": [
        "trap = Trapezoid()\n",
        "trap.set_pos({\"x\":1, \"y\":1})\n",
        "trap.set_scale(1)\n",
        "trap.set_color(\"orange\")\n",
        "trap.set_sides(3, 8)\n",
        "trap.set_h(4)\n",
        "trap.info()\n",
        "trap.area()"
      ]
    },
    {
      "cell_type": "code",
      "execution_count": 10,
      "metadata": {
        "colab": {
          "base_uri": "https://localhost:8080/"
        },
        "id": "thFGaDZWgvDc",
        "outputId": "36e823ed-c39d-44f8-f555-13caa2f1767b"
      },
      "outputs": [
        {
          "name": "stdout",
          "output_type": "stream",
          "text": [
            "Position: {'x': 10, 'y': 12} \n",
            "Scale: 3 \n",
            "Color: green\n",
            "Radius: 3\n",
            "Area of tha shape\n"
          ]
        },
        {
          "data": {
            "text/plain": [
              "28.259999999999998"
            ]
          },
          "execution_count": 10,
          "metadata": {},
          "output_type": "execute_result"
        }
      ],
      "source": [
        "circ = Circle()\n",
        "circ.set_pos({\"x\":10, \"y\":12})\n",
        "circ.set_scale(3)\n",
        "circ.set_color(\"green\")\n",
        "circ.set_radius(3)\n",
        "circ.info()\n",
        "circ.area()"
      ]
    },
    {
      "cell_type": "code",
      "execution_count": null,
      "metadata": {
        "id": "vnhQ54hig7v8"
      },
      "outputs": [],
      "source": []
    }
  ],
  "metadata": {
    "colab": {
      "provenance": []
    },
    "kernelspec": {
      "display_name": "Python 3",
      "name": "python3"
    },
    "language_info": {
      "name": "python"
    }
  },
  "nbformat": 4,
  "nbformat_minor": 0
}
